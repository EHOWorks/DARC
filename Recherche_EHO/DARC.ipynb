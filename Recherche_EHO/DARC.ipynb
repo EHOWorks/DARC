{
 "cells": [
  {
   "cell_type": "markdown",
   "metadata": {},
   "source": [
    "## Imports and Data Initialization"
   ]
  },
  {
   "cell_type": "code",
   "execution_count": 1,
   "metadata": {},
   "outputs": [],
   "source": [
    "import pandas as pd"
   ]
  },
  {
   "cell_type": "code",
   "execution_count": 2,
   "metadata": {},
   "outputs": [
    {
     "data": {
      "text/html": [
       "<div>\n",
       "<style scoped>\n",
       "    .dataframe tbody tr th:only-of-type {\n",
       "        vertical-align: middle;\n",
       "    }\n",
       "\n",
       "    .dataframe tbody tr th {\n",
       "        vertical-align: top;\n",
       "    }\n",
       "\n",
       "    .dataframe thead th {\n",
       "        text-align: right;\n",
       "    }\n",
       "</style>\n",
       "<table border=\"1\" class=\"dataframe\">\n",
       "  <thead>\n",
       "    <tr style=\"text-align: right;\">\n",
       "      <th></th>\n",
       "      <th>id_user</th>\n",
       "      <th>date</th>\n",
       "      <th>hours</th>\n",
       "      <th>id_item</th>\n",
       "      <th>price</th>\n",
       "      <th>qty</th>\n",
       "    </tr>\n",
       "  </thead>\n",
       "  <tbody>\n",
       "    <tr>\n",
       "      <td>0</td>\n",
       "      <td>17850</td>\n",
       "      <td>2010-12-01</td>\n",
       "      <td>1900-01-01 08:02:06</td>\n",
       "      <td>85123A</td>\n",
       "      <td>2.55</td>\n",
       "      <td>6</td>\n",
       "    </tr>\n",
       "    <tr>\n",
       "      <td>1</td>\n",
       "      <td>17850</td>\n",
       "      <td>2010-12-01</td>\n",
       "      <td>1900-01-01 08:02:06</td>\n",
       "      <td>71053</td>\n",
       "      <td>3.39</td>\n",
       "      <td>6</td>\n",
       "    </tr>\n",
       "    <tr>\n",
       "      <td>2</td>\n",
       "      <td>17850</td>\n",
       "      <td>2010-12-01</td>\n",
       "      <td>1900-01-01 08:02:06</td>\n",
       "      <td>84406B</td>\n",
       "      <td>2.75</td>\n",
       "      <td>8</td>\n",
       "    </tr>\n",
       "    <tr>\n",
       "      <td>3</td>\n",
       "      <td>17850</td>\n",
       "      <td>2010-12-01</td>\n",
       "      <td>1900-01-01 08:02:06</td>\n",
       "      <td>84029G</td>\n",
       "      <td>3.39</td>\n",
       "      <td>6</td>\n",
       "    </tr>\n",
       "    <tr>\n",
       "      <td>4</td>\n",
       "      <td>17850</td>\n",
       "      <td>2010-12-01</td>\n",
       "      <td>1900-01-01 08:02:06</td>\n",
       "      <td>84029E</td>\n",
       "      <td>3.39</td>\n",
       "      <td>6</td>\n",
       "    </tr>\n",
       "  </tbody>\n",
       "</table>\n",
       "</div>"
      ],
      "text/plain": [
       "   id_user       date               hours id_item  price  qty\n",
       "0    17850 2010-12-01 1900-01-01 08:02:06  85123A   2.55    6\n",
       "1    17850 2010-12-01 1900-01-01 08:02:06   71053   3.39    6\n",
       "2    17850 2010-12-01 1900-01-01 08:02:06  84406B   2.75    8\n",
       "3    17850 2010-12-01 1900-01-01 08:02:06  84029G   3.39    6\n",
       "4    17850 2010-12-01 1900-01-01 08:02:06  84029E   3.39    6"
      ]
     },
     "execution_count": 2,
     "metadata": {},
     "output_type": "execute_result"
    }
   ],
   "source": [
    "df = pd.read_csv(\"../data/ground_truth.csv\", parse_dates=[\"date\"])\n",
    "# Need to find a way to remove the additional date 1900-01-01 while keeping datetime format. \n",
    "df[\"hours\"]= pd.to_datetime(df[\"hours\"], format = '%H:%M%S')\n",
    "df.head()"
   ]
  },
  {
   "cell_type": "code",
   "execution_count": 3,
   "metadata": {},
   "outputs": [],
   "source": [
    "df[\"id_item\"]=df[\"id_item\"].astype(\"category\")\n",
    "df[\"date\"]=df[\"date\"].astype(\"category\")\n",
    "categorical = set ({'date','id_item'})"
   ]
  },
  {
   "cell_type": "code",
   "execution_count": 4,
   "metadata": {},
   "outputs": [
    {
     "name": "stdout",
     "output_type": "stream",
     "text": [
      "<class 'pandas.core.frame.DataFrame'>\n",
      "RangeIndex: 307054 entries, 0 to 307053\n",
      "Data columns (total 6 columns):\n",
      "id_user    307054 non-null int64\n",
      "date       307054 non-null category\n",
      "hours      307054 non-null datetime64[ns]\n",
      "id_item    307054 non-null category\n",
      "price      307054 non-null float64\n",
      "qty        307054 non-null int64\n",
      "dtypes: category(2), datetime64[ns](1), float64(1), int64(2)\n",
      "memory usage: 10.7 MB\n"
     ]
    }
   ],
   "source": [
    "# Initial MU : 14.1+ MB\n",
    "df.info()"
   ]
  },
  {
   "cell_type": "code",
   "execution_count": 5,
   "metadata": {},
   "outputs": [
    {
     "data": {
      "text/html": [
       "<div>\n",
       "<style scoped>\n",
       "    .dataframe tbody tr th:only-of-type {\n",
       "        vertical-align: middle;\n",
       "    }\n",
       "\n",
       "    .dataframe tbody tr th {\n",
       "        vertical-align: top;\n",
       "    }\n",
       "\n",
       "    .dataframe thead th {\n",
       "        text-align: right;\n",
       "    }\n",
       "</style>\n",
       "<table border=\"1\" class=\"dataframe\">\n",
       "  <thead>\n",
       "    <tr style=\"text-align: right;\">\n",
       "      <th></th>\n",
       "      <th>id_user</th>\n",
       "      <th>date</th>\n",
       "      <th>hours</th>\n",
       "      <th>id_item</th>\n",
       "      <th>price</th>\n",
       "      <th>qty</th>\n",
       "    </tr>\n",
       "  </thead>\n",
       "  <tbody>\n",
       "    <tr>\n",
       "      <td>0</td>\n",
       "      <td>17850</td>\n",
       "      <td>2010-12-01</td>\n",
       "      <td>1900-01-01 08:02:06</td>\n",
       "      <td>85123A</td>\n",
       "      <td>2.55</td>\n",
       "      <td>6</td>\n",
       "    </tr>\n",
       "    <tr>\n",
       "      <td>1</td>\n",
       "      <td>17850</td>\n",
       "      <td>2010-12-01</td>\n",
       "      <td>1900-01-01 08:02:06</td>\n",
       "      <td>71053</td>\n",
       "      <td>3.39</td>\n",
       "      <td>6</td>\n",
       "    </tr>\n",
       "    <tr>\n",
       "      <td>2</td>\n",
       "      <td>17850</td>\n",
       "      <td>2010-12-01</td>\n",
       "      <td>1900-01-01 08:02:06</td>\n",
       "      <td>84406B</td>\n",
       "      <td>2.75</td>\n",
       "      <td>8</td>\n",
       "    </tr>\n",
       "    <tr>\n",
       "      <td>3</td>\n",
       "      <td>17850</td>\n",
       "      <td>2010-12-01</td>\n",
       "      <td>1900-01-01 08:02:06</td>\n",
       "      <td>84029G</td>\n",
       "      <td>3.39</td>\n",
       "      <td>6</td>\n",
       "    </tr>\n",
       "    <tr>\n",
       "      <td>4</td>\n",
       "      <td>17850</td>\n",
       "      <td>2010-12-01</td>\n",
       "      <td>1900-01-01 08:02:06</td>\n",
       "      <td>84029E</td>\n",
       "      <td>3.39</td>\n",
       "      <td>6</td>\n",
       "    </tr>\n",
       "    <tr>\n",
       "      <td>5</td>\n",
       "      <td>17850</td>\n",
       "      <td>2010-12-01</td>\n",
       "      <td>1900-01-01 08:02:06</td>\n",
       "      <td>22752</td>\n",
       "      <td>7.65</td>\n",
       "      <td>2</td>\n",
       "    </tr>\n",
       "    <tr>\n",
       "      <td>6</td>\n",
       "      <td>17850</td>\n",
       "      <td>2010-12-01</td>\n",
       "      <td>1900-01-01 08:02:06</td>\n",
       "      <td>21730</td>\n",
       "      <td>4.25</td>\n",
       "      <td>6</td>\n",
       "    </tr>\n",
       "  </tbody>\n",
       "</table>\n",
       "</div>"
      ],
      "text/plain": [
       "   id_user       date               hours id_item  price  qty\n",
       "0    17850 2010-12-01 1900-01-01 08:02:06  85123A   2.55    6\n",
       "1    17850 2010-12-01 1900-01-01 08:02:06   71053   3.39    6\n",
       "2    17850 2010-12-01 1900-01-01 08:02:06  84406B   2.75    8\n",
       "3    17850 2010-12-01 1900-01-01 08:02:06  84029G   3.39    6\n",
       "4    17850 2010-12-01 1900-01-01 08:02:06  84029E   3.39    6\n",
       "5    17850 2010-12-01 1900-01-01 08:02:06   22752   7.65    2\n",
       "6    17850 2010-12-01 1900-01-01 08:02:06   21730   4.25    6"
      ]
     },
     "execution_count": 5,
     "metadata": {},
     "output_type": "execute_result"
    }
   ],
   "source": [
    "#Quasi identification sur base de date et d'heure\n",
    "df[(df[\"date\"]==\"2010-12-01\") & (df[\"hours\"]==\"1900-01-01 08:02:06\")]"
   ]
  },
  {
   "cell_type": "code",
   "execution_count": 6,
   "metadata": {},
   "outputs": [
    {
     "data": {
      "text/plain": [
       "4034"
      ]
     },
     "execution_count": 6,
     "metadata": {},
     "output_type": "execute_result"
    }
   ],
   "source": [
    "# Number of unique users\n",
    "\n",
    "df[\"id_user\"].nunique()"
   ]
  },
  {
   "cell_type": "code",
   "execution_count": 7,
   "metadata": {},
   "outputs": [
    {
     "data": {
      "text/plain": [
       "6     215\n",
       "4      31\n",
       "2      24\n",
       "12     15\n",
       "8      11\n",
       "3       1\n",
       "Name: qty, dtype: int64"
      ]
     },
     "execution_count": 7,
     "metadata": {},
     "output_type": "execute_result"
    }
   ],
   "source": [
    "# The quantity bought by user 17850 is very often 6 (215/297=72%)\n",
    "\n",
    "#print(df[df[\"id_user\"]==12680].head(1000).to_string())\n",
    "df[df[\"id_user\"]==17850][\"qty\"].value_counts()"
   ]
  },
  {
   "cell_type": "code",
   "execution_count": 8,
   "metadata": {},
   "outputs": [
    {
     "data": {
      "text/plain": [
       "17850    15\n",
       "17858     6\n",
       "17191     5\n",
       "15708     4\n",
       "12775     4\n",
       "         ..\n",
       "12956     1\n",
       "13474     1\n",
       "14499     1\n",
       "17580     1\n",
       "14687     1\n",
       "Name: id_user, Length: 106, dtype: int64"
      ]
     },
     "execution_count": 8,
     "metadata": {},
     "output_type": "execute_result"
    }
   ],
   "source": [
    "# The item 84406B is most bought by user 17850 (15/176 = 8% vs 0.9% mean per other user so more than x8 times )\n",
    "\n",
    "df[df[\"id_item\"]==\"84406B\"][\"id_user\"].value_counts()\n",
    "#df[df[\"id_item\"]==\"84406B\"][\"id_user\"].value_counts().mean()"
   ]
  },
  {
   "cell_type": "code",
   "execution_count": 9,
   "metadata": {},
   "outputs": [
    {
     "data": {
      "text/plain": [
       "12688    171\n",
       "15472     76\n",
       "15867     54\n",
       "16813     38\n",
       "16767     34\n",
       "14221     32\n",
       "13381     31\n",
       "18225     31\n",
       "14565     31\n",
       "17750     31\n",
       "13048     29\n",
       "16743     28\n",
       "16187     28\n",
       "14189     27\n",
       "14064     26\n",
       "12729     26\n",
       "15301     25\n",
       "17736     23\n",
       "15615     22\n",
       "18272     22\n",
       "12839     20\n",
       "16261     20\n",
       "17720     20\n",
       "12680     20\n",
       "17576     18\n",
       "17243     18\n",
       "14132     18\n",
       "15189     18\n",
       "13319     17\n",
       "16945     16\n",
       "17045     16\n",
       "13273     16\n",
       "15743     16\n",
       "15024     15\n",
       "13617     15\n",
       "15152     14\n",
       "15144     14\n",
       "13113     14\n",
       "15232     13\n",
       "13014     13\n",
       "17001     13\n",
       "15125     12\n",
       "12962     11\n",
       "14741      9\n",
       "15505      7\n",
       "16928      7\n",
       "16582      6\n",
       "13027      5\n",
       "16626      4\n",
       "14051      4\n",
       "13576      3\n",
       "13784      3\n",
       "17386      2\n",
       "17742      2\n",
       "15400      1\n",
       "15797      1\n",
       "14305      1\n",
       "Name: id_user, dtype: int64"
      ]
     },
     "execution_count": 9,
     "metadata": {},
     "output_type": "execute_result"
    }
   ],
   "source": [
    "# The user 12688 is the one who most bought at the date 2011-08-18\n",
    "\n",
    "df[df[\"date\"]==\"2011-08-18\"][\"id_user\"].value_counts()"
   ]
  },
  {
   "cell_type": "code",
   "execution_count": 10,
   "metadata": {},
   "outputs": [
    {
     "data": {
      "text/plain": [
       "{1, 4800}"
      ]
     },
     "execution_count": 10,
     "metadata": {},
     "output_type": "execute_result"
    }
   ],
   "source": [
    "{df[\"qty\"].min(),df[\"qty\"].max()}"
   ]
  },
  {
   "cell_type": "markdown",
   "metadata": {},
   "source": [
    "# Implementation of k-anonymity"
   ]
  },
  {
   "cell_type": "code",
   "execution_count": 11,
   "metadata": {},
   "outputs": [],
   "source": [
    "def get_spans(df,partition, scale = None):\n",
    "    spans={}\n",
    "    for column in df.columns:\n",
    "        if column in categorical:\n",
    "            span=len(df[column][partition].unique())\n",
    "        else:\n",
    "            span=df[column][partition].max()-df[column][partition].min()\n",
    "        if scale is not None:\n",
    "            span = span/scale[column]\n",
    "        spans[column]=span\n",
    "    return spans"
   ]
  },
  {
   "cell_type": "code",
   "execution_count": 12,
   "metadata": {},
   "outputs": [
    {
     "data": {
      "text/plain": [
       "{'id_user': 5940,\n",
       " 'date': 305,\n",
       " 'hours': Timedelta('0 days 13:59:06'),\n",
       " 'id_item': 3612,\n",
       " 'price': 8142.749,\n",
       " 'qty': 4799}"
      ]
     },
     "execution_count": 12,
     "metadata": {},
     "output_type": "execute_result"
    }
   ],
   "source": [
    "full_spans = get_spans(df,df.index)\n",
    "full_spans"
   ]
  },
  {
   "cell_type": "code",
   "execution_count": 13,
   "metadata": {},
   "outputs": [],
   "source": [
    "def split(df, partition, column):\n",
    "    \n",
    "    \"\"\"\"\"\n",
    "    :param     df: The dataframe from which we want to split a partition\n",
    "    :param     partition: The range of indexes (rows) we want to select from df \n",
    "    :param     column: The column to select from df, and operate the split with\n",
    "    \n",
    "    Example : \n",
    "    \n",
    "    index         age(numerical)   gender(categorical)\n",
    "      0            19              female\n",
    "      1            25              female\n",
    "      2            14              male\n",
    "      3            51              female\n",
    "\n",
    "      \n",
    "      If column = age \n",
    "      Median = (S[2]+S[1])/2 = (14+25)/2 = 19.5 ; Sorted age : {14,19,25,51} = {S[2],S[0],S[1],S[3]}\n",
    "      return (Range{2,0},Range{1,3})\n",
    "      \n",
    "      If column=gender (It is precisely because of even cardinals that we can't calculate medians for non numerical)\n",
    "      values = {gender,female}\n",
    "      return (Range{2},Range{0,1,3}) \n",
    "      \n",
    "      As shown above, cases where the partition is split on a non numerical column, can result in a weird situation\n",
    "      where left and right partition don't really have the same number of values.\n",
    "      And this is only a showcase situation, it is virtually possible to have 0 value at left, and all values at right\n",
    "      (which also happens when the quasi identifier has only one value in the partition : card(values)=1)\n",
    "      or 75% at left and 25% at right etc... \n",
    "      \n",
    "      So really for categorical values, the notion of median (which is supposed to split the set in 50%) doesn't make\n",
    "      any sens here.\n",
    "\n",
    "    \"\"\"\"\"\n",
    "    \n",
    "    \n",
    "    \"\"\"\"\"\"\"\"\"\"\"\"\"\"\"\"\"\"\"\"\"\"\"\"\"\"\"\"\"\"\"\"\"\"\"\"\"\"\"\"\"\"\"\"\"\"\"\"\"\"\"\"\"\"\"\"\"\"\"\"\"\"\"\"\"\"\"\"\"\"\"\"\"\"\"\"\"\"\"\"\"\"\"\"\"\"\"\"\"\"\"\"\"\"\"\"\"\"\"\"\"\"\"\"\"\"\"\n",
    "                                            dfp = df[column][partition]\n",
    "                                            \n",
    "                          df[column] is a set (like an array one dimension, index : value)\n",
    "                          df[column][partition] is a subset of df[column] (selection of rows)\n",
    "                          It is also treated as a set\n",
    "                          \n",
    "                            Example: \n",
    "                            \n",
    "                            df[age] = 0 19 = df[df.index]\n",
    "                                      1 25\n",
    "                                      2 14\n",
    "                                      3 51\n",
    "                            \n",
    "                          df[column][0] = 19 \n",
    "                          df[column][[0,1]]= 19\n",
    "                                             25\n",
    "                          [0,1] can be viewed as the range of indexes from 0 to 1 included\n",
    "                          df.index is the range of all indexes from 0 to df.len-1\n",
    "                          partition is nothing more than the set of indexes of a given number of rows\n",
    "                            \n",
    "    \"\"\"\"\"\"\"\"\"\"\"\"\"\"\"\"\"\"\"\"\"\"\"\"\"\"\"\"\"\"\"\"\"\"\"\"\"\"\"\"\"\"\"\"\"\"\"\"\"\"\"\"\"\"\"\"\"\"\"\"\"\"\"\"\"\"\"\"\"\"\"\"\"\"\"\"\"\"\"\"\"\"\"\"\"\"\"\"\"\"\"\"\"\"\"\"\"\"\"\"\"\"\"\"\"\n",
    "   \n",
    "     \n",
    "    \n",
    "    dfp = df[column][partition]\n",
    "    \n",
    "    if ((column in categorical) | (column == \"date\") | (column == \"hours\")):\n",
    "        values = dfp.unique()\n",
    "        lv=set(values[:len(values)//2])\n",
    "        rv=set(values[len(values)//2:])\n",
    "        return dfp.index[dfp.isin(lv)],dfp.index[dfp.isin(rv)]\n",
    "    else:\n",
    "        median=dfp.median()\n",
    "        #print(dfp, median)\n",
    "        dfl=dfp.index[dfp<median]\n",
    "        dfr=dfp.index[dfp>=median]\n",
    "        #print(df[\"qty\"][dfl])\n",
    "        return(dfl,dfr)"
   ]
  },
  {
   "cell_type": "code",
   "execution_count": 14,
   "metadata": {},
   "outputs": [
    {
     "data": {
      "text/plain": [
       "19.5"
      ]
     },
     "execution_count": 14,
     "metadata": {},
     "output_type": "execute_result"
    }
   ],
   "source": [
    "39/2"
   ]
  },
  {
   "cell_type": "code",
   "execution_count": 15,
   "metadata": {},
   "outputs": [
    {
     "data": {
      "text/plain": [
       "(Int64Index([     0,      1,      2,      3,      4,      5,      6,      7,\n",
       "                  8,      9,\n",
       "             ...\n",
       "             307040, 307041, 307042, 307043, 307044, 307045, 307046, 307047,\n",
       "             307049, 307050],\n",
       "            dtype='int64', length=217230),\n",
       " Int64Index([  9985,  10015,  10062,  10074,  10078,  10110,  10137,  10144,\n",
       "              10169,  10173,\n",
       "             ...\n",
       "             307019, 307023, 307030, 307032, 307033, 307036, 307048, 307051,\n",
       "             307052, 307053],\n",
       "            dtype='int64', length=89824))"
      ]
     },
     "execution_count": 15,
     "metadata": {},
     "output_type": "execute_result"
    }
   ],
   "source": [
    "dfl,dfr = split(df,df.index,\"id_item\")\n",
    "dfl,dfr"
   ]
  },
  {
   "cell_type": "code",
   "execution_count": 16,
   "metadata": {},
   "outputs": [],
   "source": [
    "# If partition has less members than k then it's not a valid one, so we can't further divide it\n",
    "def is_k_anonymous (df, partition, sensitive_column, k=5000):\n",
    "    if len(partition)<k:\n",
    "        return False\n",
    "    return True"
   ]
  },
  {
   "cell_type": "code",
   "execution_count": 17,
   "metadata": {},
   "outputs": [],
   "source": [
    "def partition_dataset(df, feature_columns,sensitive_column, scale, is_valid):  \n",
    "    \"\"\"\"\"\n",
    "    :param     df: The dataframe to partition\n",
    "    :param     feature_columns: The Quasi-Identifier columns \n",
    "    :param     sensitive_column : The Sensitive Data we wish to protect\n",
    "    :param     scale : original full_spans of df before the first split\n",
    "    \n",
    "    \"\"\"\"\"\n",
    "    finished_partitions=[]\n",
    "    \n",
    "    \"\"\"\"\"\"\"\"\"\"\"\"\"\"\"\"\"\"\"\"\"\"\"\"\"\"\"\"\"\"\"\"\"\"\"\"\"\"\"\"\"\"\"\"\"\"\"\"\"\"\"\"\"\"\"\"\"\"\"\"\"\"\"\"\"\"\"\"\"\"\"\"\"\"\"\"\"\"\"\"\"\"\"\"\"\"\"\"\"\"\"\"\"\"\"\"\"\"\"\"\"\"\"\"\"\"\"\n",
    "                                            [df.index]\n",
    "                                            \n",
    "                    df.index is a range of indexes, it can be seen as an array of indexes while it's not \n",
    "                    technically an array.\n",
    "                    [df.index] in between brackets simply means you're initiliazing a list of index ranges, \n",
    "                    you can see it as an array of arrays.\n",
    "                            \n",
    "    \"\"\"\"\"\"\"\"\"\"\"\"\"\"\"\"\"\"\"\"\"\"\"\"\"\"\"\"\"\"\"\"\"\"\"\"\"\"\"\"\"\"\"\"\"\"\"\"\"\"\"\"\"\"\"\"\"\"\"\"\"\"\"\"\"\"\"\"\"\"\"\"\"\"\"\"\"\"\"\"\"\"\"\"\"\"\"\"\"\"\"\"\"\"\"\"\"\"\"\"\"\"\"\"\"\"\"\n",
    "    partitions=[df.index]\n",
    "    \n",
    "    \"\"\"\"\"\"\"\"\"\"\"\"\"\"\"\"\"\"\"\"\"\"\"\"\"\"\"\"\"\"\"\"\"\"\"\"\"\"\"\"\"\"\"\"\"\"\"\"\"\"\"\"\"\"\"\"\"\"\"\"\"\"\"\"\"\"\"\"\"\"\"\"\"\"\"\"\"\"\"\"\"\"\"\"\"\"\"\"\"\"\"\"\"\"\"\"\"\"\"\"\"\"\"\"\"\"\"\n",
    "                                            while partitions:\n",
    "                                            \n",
    "                    The main loop here works like a chef, think of partitions like a cucumber, \n",
    "                    each time we're going through the while, chef cuts it in two equal parts (more or less **)\n",
    "                                    (i1) <----> => (i2) <--><--> =>  (i3) <-><-><-><->\n",
    "                                        PS: Sorry for the poor drawing skills\n",
    "                        ** Refer to the split method to understand this remarque.\n",
    "    \"\"\"\"\"\"\"\"\"\"\"\"\"\"\"\"\"\"\"\"\"\"\"\"\"\"\"\"\"\"\"\"\"\"\"\"\"\"\"\"\"\"\"\"\"\"\"\"\"\"\"\"\"\"\"\"\"\"\"\"\"\"\"\"\"\"\"\"\"\"\"\"\"\"\"\"\"\"\"\"\"\"\"\"\"\"\"\"\"\"\"\"\"\"\"\"\"\"\"\"\"\"\"\"\"\"\"\n",
    "    while partitions:\n",
    "        \n",
    "        # Pop the oldest partition from the list of partitions, so that we can split it further (or at least try).\n",
    "        # Remember partition is the same type as df.index so it's a range of indexes (an \"array\" of indexes)\n",
    "        \n",
    "        partition = partitions.pop(0)\n",
    "        \n",
    "        # Update the spans (number of unique values for each quasi-identifier column) for this iteration\n",
    "        \n",
    "        spans = get_spans(df[feature_columns],partition, scale)\n",
    "        \n",
    "        \"\"\"\"\"\"\"\"\"\"\"\"\"\"\"\"\"\"\"\"\"\"\"\"\"\"\"\"\"\"\"\"\"\"\"\"\"\"\"\"\"\"\"\"\"\"\"\"\"\"\"\"\"\"\"\"\"\"\"\"\"\"\"\"\"\"\"\"\"\"\"\"\"\"\"\"\"\"\"\"\"\"\"\"\"\"\"\"\"\"\"\"\"\"\"\"\"\"\"\"\"\"\"\"\"\"\"\n",
    "                            for column, span in sorted(spans.items(), key = lambda x:-x[1]):\n",
    "                    \n",
    "                    for {column,span} in {column1 : numberOfUniqueItemInColumn_1    \n",
    "                                          column2 : numberOfUniqueItemInColumn_2   \n",
    "                                          ....\n",
    "                                          columnN : numberOfUniqueItemInColumn_N   \n",
    "                                          } \n",
    "                    where numberOfUniqueItemInColumn_i is a drecreasing sequence (suite décroissante) \n",
    "                    \n",
    "                    Here we loop through the quasi identifiers (since span stores the quasi identifier column\n",
    "                    names and values) ordered in decreasing order of multiplicity (number of # values).\n",
    "                    \n",
    "                    \n",
    "                    Details :\n",
    "                    \n",
    "                    spans.items() returns a hashmap of spans column names as keys, and span column values as values\n",
    "                    \n",
    "                    key = lambda x:-x[1] tells to sorted(), hey I want you to sort this hashmap in decreasing order \n",
    "                    of the elements that are in [1] so in decreasing values in this case. \n",
    "                    (key = labmda x:x[0] would've returned a sorted hashmap in increasing order of indexes which \n",
    "                    is the default)\n",
    "             \n",
    "                    \n",
    "        \"\"\"\"\"\"\"\"\"\"\"\"\"\"\"\"\"\"\"\"\"\"\"\"\"\"\"\"\"\"\"\"\"\"\"\"\"\"\"\"\"\"\"\"\"\"\"\"\"\"\"\"\"\"\"\"\"\"\"\"\"\"\"\"\"\"\"\"\"\"\"\"\"\"\"\"\"\"\"\"\"\"\"\"\"\"\"\"\"\"\"\"\"\"\"\"\"\"\"\"\"\"\"\"\"\"\"\n",
    "    \n",
    "        for column, span in sorted(spans.items(), key = lambda x:-x[1]):\n",
    "            \n",
    "            # lp and rp are like partition : they are a range of indexes (an \"array\" of indexes)\n",
    "            # lp is the ranges of indexes for whome df[column][lp] < median\n",
    "            # rp is the ranges of indexes for whome df[column][rp] >= median\n",
    "\n",
    "            lp, rp = split(df,partition,column)\n",
    "            \n",
    "            \"\"\"\"\"\"\"\"\"\"\"\"\"\"\"\"\"\"\"\"\"\"\"\"\"\"\"\"\"\"\"\"\"\"\"\"\"\"\"\"\"\"\"\"\"\"\"\"\"\"\"\"\"\"\"\"\"\"\"\"\"\"\"\"\"\"\"\"\"\"\"\"\"\"\"\"\"\"\"\"\"\"\"\"\"\"\"\"\"\"\"\"\"\"\"\"\"\"\"\"\"\"\"\"\"\"\"\n",
    "                    if not is_valid(df,lp,sensitive_column) or not is_valid(df,rp,sensitive_column):\n",
    "                                            \n",
    "                    As long as one of both split partitions is still valid (len(partition)>k) we need\n",
    "                    to break from the for loop (don't even look for next quasi identifier) and add lp and rp \n",
    "                    to the list of partitions we want to cut even more.\n",
    "                    \n",
    "                    Otherwise we enter the if, and execute continue : \n",
    "                    What continue does, is forget the rest of the loop and skip to the next iteration,\n",
    "                    so select the next quasi identifier to divide the partition.\n",
    "                    \n",
    "                    If we tried with all quasi identifiers, and none worked, then our partition is done (as\n",
    "                    small as possible) and when we execute continue it will have no more quasi to explore. \n",
    "                    So executes the else and append the finished partition to the set of finished_partitions.\n",
    "        \n",
    "                            \n",
    "            \"\"\"\"\"\"\"\"\"\"\"\"\"\"\"\"\"\"\"\"\"\"\"\"\"\"\"\"\"\"\"\"\"\"\"\"\"\"\"\"\"\"\"\"\"\"\"\"\"\"\"\"\"\"\"\"\"\"\"\"\"\"\"\"\"\"\"\"\"\"\"\"\"\"\"\"\"\"\"\"\"\"\"\"\"\"\"\"\"\"\"\"\"\"\"\"\"\"\"\"\"\"\"\"\"\"\"\n",
    "            if not is_valid(df,lp,sensitive_column) or not is_valid(df,rp,sensitive_column):\n",
    "                continue\n",
    "            partitions.extend((lp,rp))\n",
    "            break\n",
    "        else:\n",
    "            finished_partitions.append(partition)\n",
    "    return finished_partitions"
   ]
  },
  {
   "cell_type": "code",
   "execution_count": 18,
   "metadata": {},
   "outputs": [],
   "source": [
    "feature_columns=[\"date\", \"qty\"]\n",
    "sensitive_column=\"price\"\n",
    "finished_partitions=partition_dataset(df,feature_columns,sensitive_column, full_spans, is_k_anonymous)"
   ]
  },
  {
   "cell_type": "code",
   "execution_count": 19,
   "metadata": {},
   "outputs": [
    {
     "data": {
      "text/plain": [
       "44"
      ]
     },
     "execution_count": 19,
     "metadata": {},
     "output_type": "execute_result"
    }
   ],
   "source": [
    "len(finished_partitions)\n",
    "#df[\"date\"][finished_partitions[0]]\n",
    "#finished_partitions[0]\n",
    "#finished_partitions"
   ]
  },
  {
   "cell_type": "code",
   "execution_count": 20,
   "metadata": {},
   "outputs": [
    {
     "data": {
      "text/plain": [
       "1    2491\n",
       "2    2330\n",
       "4    1393\n",
       "3    1060\n",
       "5     332\n",
       "Name: qty, dtype: int64"
      ]
     },
     "execution_count": 20,
     "metadata": {},
     "output_type": "execute_result"
    }
   ],
   "source": [
    "len(df)/305\n",
    "df[\"qty\"][finished_partitions[5]].value_counts()"
   ]
  },
  {
   "cell_type": "code",
   "execution_count": 21,
   "metadata": {},
   "outputs": [],
   "source": [
    "\"\"\"\n",
    "Various handlers for .agg() method to call on each column of df.loc[partition] depending on the column type\n",
    "\n",
    ":param   series: Column Set (from df.loc[partition]) to be processed \n",
    "\"\"\"\n",
    "\n",
    "def agg_categorical_column(series):\n",
    "    return[','.join(set(series))]\n",
    "\n",
    "def agg_numerical_column(series):\n",
    "    return[series.mean()]\n",
    "\n",
    "def agg_date_column(series):\n",
    "    # remove the hh:mm:ss\n",
    "    #series=series.dt.date\n",
    "    if(isinstance(series,pd.Series)):\n",
    "        print(series[series.idxmin], series[series.idxmax])\n",
    "        return[[series[series.idxmin], series[series.idxmax]]]\n",
    "    #return [[series.max(),series.min()]]\n",
    "    return [\"something\"]\n"
   ]
  },
  {
   "cell_type": "code",
   "execution_count": 22,
   "metadata": {},
   "outputs": [],
   "source": [
    "def build_anonymized_dataset(df,partitions,feature_columns,sensitive_column,max_partitions=None):\n",
    "    aggregations = {}\n",
    "    for column in feature_columns:\n",
    "        if column in categorical:\n",
    "            if column == \"date\":\n",
    "                aggregations[column]=agg_date_column\n",
    "            else:\n",
    "                aggregations[column]=agg_categorical_column\n",
    "            \n",
    "        else: \n",
    "            aggregations[column]=agg_numerical_column\n",
    "            \n",
    "    rows=[]\n",
    "    for i, partition in enumerate(partitions):\n",
    "        if i%100==1:\n",
    "            print(\"Finished {} partitions ! \".format(i) )\n",
    "        if max_partitions is not None and i > max_partitions:\n",
    "            break\n",
    "        #df.agg({column : method_to_apply})\n",
    "        #df.agg({numerical_column : agg_numerical_column\n",
    "        #         categorical_column : aggww_categorical_column\n",
    "        #        })\n",
    "        # Result 1 line multiple column, each cell=aggreg result\n",
    "        \n",
    "        #print(aggregations)\n",
    "        #print(df.loc[partition].agg(aggregations,squeeze=False))\n",
    "        #print(type(df.loc[partition][\"date\"]))\n",
    "        grouped_columns=df.loc[partition].agg(aggregations,squeeze=False)\n",
    "        # Count spans of sensitive column in a partition\n",
    "        sensitive_counts = df.loc[partition].groupby(sensitive_column).agg({\n",
    "            sensitive_column : 'count'\n",
    "        })\n",
    "        values = grouped_columns.iloc[0].to_dict()\n",
    "        #print(values)\n",
    "        for sensitive_value, count in sensitive_counts[sensitive_column].items():\n",
    "            if count==0:\n",
    "                continue\n",
    "            values.update({\n",
    "                sensitive_column : sensitive_value,\n",
    "                'count' : count,\n",
    "            })\n",
    "            rows.append(values.copy())\n",
    "    return pd.DataFrame(rows)\n"
   ]
  },
  {
   "cell_type": "code",
   "execution_count": 23,
   "metadata": {},
   "outputs": [
    {
     "name": "stdout",
     "output_type": "stream",
     "text": [
      "2010-12-01 00:00:00 2010-12-22 00:00:00\n",
      "Finished 1 partitions ! \n",
      "2010-12-23 00:00:00 2011-01-24 00:00:00\n",
      "2011-01-25 00:00:00 2011-02-15 00:00:00\n",
      "2011-02-16 00:00:00 2011-03-09 00:00:00\n",
      "2011-03-10 00:00:00 2011-03-31 00:00:00\n",
      "2011-04-01 00:00:00 2011-04-26 00:00:00\n",
      "2011-04-27 00:00:00 2011-05-20 00:00:00\n",
      "2011-05-22 00:00:00 2011-06-13 00:00:00\n",
      "2010-12-01 00:00:00 2011-01-24 00:00:00\n",
      "2011-01-25 00:00:00 2011-03-09 00:00:00\n",
      "2011-03-10 00:00:00 2011-04-26 00:00:00\n",
      "2011-04-27 00:00:00 2011-06-13 00:00:00\n",
      "2011-01-25 00:00:00 2011-03-09 00:00:00\n",
      "2011-06-14 00:00:00 2011-07-05 00:00:00\n",
      "2011-07-06 00:00:00 2011-07-27 00:00:00\n",
      "2011-07-28 00:00:00 2011-08-18 00:00:00\n",
      "2011-08-19 00:00:00 2011-09-11 00:00:00\n",
      "2011-09-12 00:00:00 2011-10-03 00:00:00\n",
      "2011-06-14 00:00:00 2011-07-27 00:00:00\n",
      "2011-07-28 00:00:00 2011-09-11 00:00:00\n",
      "2011-06-14 00:00:00 2011-09-11 00:00:00\n",
      "2011-06-14 00:00:00 2011-12-09 00:00:00\n",
      "2010-12-01 00:00:00 2011-01-24 00:00:00\n",
      "2010-12-01 00:00:00 2011-01-24 00:00:00\n",
      "2011-03-10 00:00:00 2011-03-31 00:00:00\n",
      "2011-04-01 00:00:00 2011-04-26 00:00:00\n",
      "2011-04-27 00:00:00 2011-05-20 00:00:00\n",
      "2011-05-22 00:00:00 2011-06-13 00:00:00\n",
      "2011-10-04 00:00:00 2011-10-13 00:00:00\n",
      "2011-10-14 00:00:00 2011-10-25 00:00:00\n",
      "2011-10-26 00:00:00 2011-11-04 00:00:00\n",
      "2011-11-06 00:00:00 2011-11-16 00:00:00\n",
      "2011-11-17 00:00:00 2011-11-28 00:00:00\n",
      "2011-11-29 00:00:00 2011-12-09 00:00:00\n",
      "2011-09-12 00:00:00 2011-10-03 00:00:00\n",
      "2011-10-04 00:00:00 2011-10-25 00:00:00\n",
      "2011-10-26 00:00:00 2011-11-16 00:00:00\n",
      "2011-11-17 00:00:00 2011-12-09 00:00:00\n",
      "2011-09-12 00:00:00 2011-10-25 00:00:00\n",
      "2011-06-14 00:00:00 2011-12-09 00:00:00\n",
      "2011-10-26 00:00:00 2011-11-16 00:00:00\n",
      "2011-11-17 00:00:00 2011-12-09 00:00:00\n",
      "2011-06-14 00:00:00 2011-12-09 00:00:00\n",
      "2011-06-14 00:00:00 2011-12-09 00:00:00\n"
     ]
    }
   ],
   "source": [
    "dfn=build_anonymized_dataset(df,finished_partitions,feature_columns,sensitive_column)"
   ]
  },
  {
   "cell_type": "code",
   "execution_count": 24,
   "metadata": {},
   "outputs": [],
   "source": [
    "sectors=dfn.groupby(\"date\")\n",
    "#dfn[\"date\"].value_counts().head(60)"
   ]
  },
  {
   "cell_type": "code",
   "execution_count": 25,
   "metadata": {},
   "outputs": [],
   "source": [
    "dfn.to_csv(\"k_anon:date+qty:price.csv\")"
   ]
  },
  {
   "cell_type": "code",
   "execution_count": 26,
   "metadata": {},
   "outputs": [
    {
     "data": {
      "text/html": [
       "<div>\n",
       "<style scoped>\n",
       "    .dataframe tbody tr th:only-of-type {\n",
       "        vertical-align: middle;\n",
       "    }\n",
       "\n",
       "    .dataframe tbody tr th {\n",
       "        vertical-align: top;\n",
       "    }\n",
       "\n",
       "    .dataframe thead th {\n",
       "        text-align: right;\n",
       "    }\n",
       "</style>\n",
       "<table border=\"1\" class=\"dataframe\">\n",
       "  <thead>\n",
       "    <tr style=\"text-align: right;\">\n",
       "      <th></th>\n",
       "      <th>date</th>\n",
       "      <th>qty</th>\n",
       "      <th>price</th>\n",
       "      <th>count</th>\n",
       "    </tr>\n",
       "  </thead>\n",
       "  <tbody>\n",
       "    <tr>\n",
       "      <td>0</td>\n",
       "      <td>[2010-12-01 00:00:00, 2010-12-22 00:00:00]</td>\n",
       "      <td>2.134386</td>\n",
       "      <td>0.14</td>\n",
       "      <td>2</td>\n",
       "    </tr>\n",
       "    <tr>\n",
       "      <td>1</td>\n",
       "      <td>[2010-12-01 00:00:00, 2010-12-22 00:00:00]</td>\n",
       "      <td>2.134386</td>\n",
       "      <td>0.16</td>\n",
       "      <td>1</td>\n",
       "    </tr>\n",
       "    <tr>\n",
       "      <td>2</td>\n",
       "      <td>[2010-12-01 00:00:00, 2010-12-22 00:00:00]</td>\n",
       "      <td>2.134386</td>\n",
       "      <td>0.18</td>\n",
       "      <td>1</td>\n",
       "    </tr>\n",
       "    <tr>\n",
       "      <td>3</td>\n",
       "      <td>[2010-12-01 00:00:00, 2010-12-22 00:00:00]</td>\n",
       "      <td>2.134386</td>\n",
       "      <td>0.19</td>\n",
       "      <td>4</td>\n",
       "    </tr>\n",
       "    <tr>\n",
       "      <td>4</td>\n",
       "      <td>[2010-12-01 00:00:00, 2010-12-22 00:00:00]</td>\n",
       "      <td>2.134386</td>\n",
       "      <td>0.21</td>\n",
       "      <td>12</td>\n",
       "    </tr>\n",
       "    <tr>\n",
       "      <td>...</td>\n",
       "      <td>...</td>\n",
       "      <td>...</td>\n",
       "      <td>...</td>\n",
       "      <td>...</td>\n",
       "    </tr>\n",
       "    <tr>\n",
       "      <td>3765</td>\n",
       "      <td>[2011-06-14 00:00:00, 2011-12-09 00:00:00]</td>\n",
       "      <td>114.259662</td>\n",
       "      <td>10.40</td>\n",
       "      <td>1</td>\n",
       "    </tr>\n",
       "    <tr>\n",
       "      <td>3766</td>\n",
       "      <td>[2011-06-14 00:00:00, 2011-12-09 00:00:00]</td>\n",
       "      <td>114.259662</td>\n",
       "      <td>10.95</td>\n",
       "      <td>21</td>\n",
       "    </tr>\n",
       "    <tr>\n",
       "      <td>3767</td>\n",
       "      <td>[2011-06-14 00:00:00, 2011-12-09 00:00:00]</td>\n",
       "      <td>114.259662</td>\n",
       "      <td>12.48</td>\n",
       "      <td>1</td>\n",
       "    </tr>\n",
       "    <tr>\n",
       "      <td>3768</td>\n",
       "      <td>[2011-06-14 00:00:00, 2011-12-09 00:00:00]</td>\n",
       "      <td>114.259662</td>\n",
       "      <td>13.35</td>\n",
       "      <td>1</td>\n",
       "    </tr>\n",
       "    <tr>\n",
       "      <td>3769</td>\n",
       "      <td>[2011-06-14 00:00:00, 2011-12-09 00:00:00]</td>\n",
       "      <td>114.259662</td>\n",
       "      <td>20.80</td>\n",
       "      <td>1</td>\n",
       "    </tr>\n",
       "  </tbody>\n",
       "</table>\n",
       "<p>3770 rows × 4 columns</p>\n",
       "</div>"
      ],
      "text/plain": [
       "                                            date         qty  price  count\n",
       "0     [2010-12-01 00:00:00, 2010-12-22 00:00:00]    2.134386   0.14      2\n",
       "1     [2010-12-01 00:00:00, 2010-12-22 00:00:00]    2.134386   0.16      1\n",
       "2     [2010-12-01 00:00:00, 2010-12-22 00:00:00]    2.134386   0.18      1\n",
       "3     [2010-12-01 00:00:00, 2010-12-22 00:00:00]    2.134386   0.19      4\n",
       "4     [2010-12-01 00:00:00, 2010-12-22 00:00:00]    2.134386   0.21     12\n",
       "...                                          ...         ...    ...    ...\n",
       "3765  [2011-06-14 00:00:00, 2011-12-09 00:00:00]  114.259662  10.40      1\n",
       "3766  [2011-06-14 00:00:00, 2011-12-09 00:00:00]  114.259662  10.95     21\n",
       "3767  [2011-06-14 00:00:00, 2011-12-09 00:00:00]  114.259662  12.48      1\n",
       "3768  [2011-06-14 00:00:00, 2011-12-09 00:00:00]  114.259662  13.35      1\n",
       "3769  [2011-06-14 00:00:00, 2011-12-09 00:00:00]  114.259662  20.80      1\n",
       "\n",
       "[3770 rows x 4 columns]"
      ]
     },
     "execution_count": 26,
     "metadata": {},
     "output_type": "execute_result"
    }
   ],
   "source": [
    "dfn"
   ]
  },
  {
   "cell_type": "code",
   "execution_count": 27,
   "metadata": {},
   "outputs": [
    {
     "data": {
      "text/plain": [
       "0        2010-12-01\n",
       "1        2010-12-01\n",
       "2        2010-12-01\n",
       "3        2010-12-01\n",
       "4        2010-12-01\n",
       "            ...    \n",
       "307049   2011-12-09\n",
       "307050   2011-12-09\n",
       "307051   2011-12-09\n",
       "307052   2011-12-09\n",
       "307053   2011-12-09\n",
       "Name: date, Length: 307054, dtype: category\n",
       "Categories (305, datetime64[ns]): [2010-12-01, 2010-12-02, 2010-12-03, 2010-12-05, ..., 2011-12-06, 2011-12-07, 2011-12-08, 2011-12-09]"
      ]
     },
     "execution_count": 27,
     "metadata": {},
     "output_type": "execute_result"
    }
   ],
   "source": [
    "df[\"date\"]"
   ]
  },
  {
   "cell_type": "code",
   "execution_count": 28,
   "metadata": {},
   "outputs": [],
   "source": [
    "#df[\"date\"].min()-df[\"date\"].max()"
   ]
  },
  {
   "cell_type": "code",
   "execution_count": 29,
   "metadata": {},
   "outputs": [],
   "source": [
    "df[\"date\"]=pd.DatetimeIndex(df[\"date\"]).month"
   ]
  },
  {
   "cell_type": "code",
   "execution_count": 30,
   "metadata": {},
   "outputs": [
    {
     "name": "stderr",
     "output_type": "stream",
     "text": [
      "/Users/hussein/anaconda3/lib/python3.7/site-packages/pandas/core/ops/__init__.py:1115: FutureWarning: elementwise comparison failed; returning scalar instead, but in the future will perform elementwise comparison\n",
      "  result = method(y)\n"
     ]
    },
    {
     "data": {
      "text/plain": [
       "Series([], Name: id_user, dtype: int64)"
      ]
     },
     "execution_count": 30,
     "metadata": {},
     "output_type": "execute_result"
    }
   ],
   "source": [
    "df[df[\"date\"]==\"2010-12-01\"][\"id_user\"].value_counts()"
   ]
  },
  {
   "cell_type": "code",
   "execution_count": 31,
   "metadata": {},
   "outputs": [
    {
     "data": {
      "text/plain": [
       "3612"
      ]
     },
     "execution_count": 31,
     "metadata": {},
     "output_type": "execute_result"
    }
   ],
   "source": [
    "df[\"id_item\"].nunique()"
   ]
  },
  {
   "cell_type": "code",
   "execution_count": null,
   "metadata": {},
   "outputs": [],
   "source": []
  },
  {
   "cell_type": "code",
   "execution_count": null,
   "metadata": {},
   "outputs": [],
   "source": []
  },
  {
   "cell_type": "code",
   "execution_count": null,
   "metadata": {},
   "outputs": [],
   "source": []
  },
  {
   "cell_type": "code",
   "execution_count": null,
   "metadata": {},
   "outputs": [],
   "source": []
  },
  {
   "cell_type": "code",
   "execution_count": null,
   "metadata": {},
   "outputs": [],
   "source": []
  },
  {
   "cell_type": "code",
   "execution_count": null,
   "metadata": {},
   "outputs": [],
   "source": []
  },
  {
   "cell_type": "code",
   "execution_count": null,
   "metadata": {},
   "outputs": [],
   "source": []
  },
  {
   "cell_type": "code",
   "execution_count": null,
   "metadata": {},
   "outputs": [],
   "source": []
  },
  {
   "cell_type": "code",
   "execution_count": null,
   "metadata": {},
   "outputs": [],
   "source": []
  },
  {
   "cell_type": "code",
   "execution_count": null,
   "metadata": {},
   "outputs": [],
   "source": []
  },
  {
   "cell_type": "code",
   "execution_count": null,
   "metadata": {},
   "outputs": [],
   "source": []
  },
  {
   "cell_type": "code",
   "execution_count": null,
   "metadata": {},
   "outputs": [],
   "source": []
  }
 ],
 "metadata": {
  "kernelspec": {
   "display_name": "Python 3",
   "language": "python",
   "name": "python3"
  },
  "language_info": {
   "codemirror_mode": {
    "name": "ipython",
    "version": 3
   },
   "file_extension": ".py",
   "mimetype": "text/x-python",
   "name": "python",
   "nbconvert_exporter": "python",
   "pygments_lexer": "ipython3",
   "version": "3.7.4"
  }
 },
 "nbformat": 4,
 "nbformat_minor": 2
}
