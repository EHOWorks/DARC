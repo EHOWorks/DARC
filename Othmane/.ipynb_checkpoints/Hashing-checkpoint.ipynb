{
 "cells": [
  {
   "cell_type": "code",
   "execution_count": 273,
   "metadata": {},
   "outputs": [],
   "source": [
    "import pandas as pd\n",
    "import numpy as np\n",
    "import datetime as dt\n",
    "import hashlib as hs\n",
    "import base64 as b64\n",
    "import numpy as np\n",
    "import os"
   ]
  },
  {
   "cell_type": "code",
   "execution_count": 258,
   "metadata": {},
   "outputs": [],
   "source": [
    "df = pd.read_csv(\"Anonymized_Sets/ARX/29_Oct_k_anon_50_(h=2,q=2).csv\", parse_dates=[\"date\"])\n",
    "df.id_user=df.id_user.astype(str)"
   ]
  },
  {
   "cell_type": "code",
   "execution_count": 126,
   "metadata": {},
   "outputs": [
    {
     "data": {
      "text/html": [
       "<div>\n",
       "<style scoped>\n",
       "    .dataframe tbody tr th:only-of-type {\n",
       "        vertical-align: middle;\n",
       "    }\n",
       "\n",
       "    .dataframe tbody tr th {\n",
       "        vertical-align: top;\n",
       "    }\n",
       "\n",
       "    .dataframe thead th {\n",
       "        text-align: right;\n",
       "    }\n",
       "</style>\n",
       "<table border=\"1\" class=\"dataframe\">\n",
       "  <thead>\n",
       "    <tr style=\"text-align: right;\">\n",
       "      <th></th>\n",
       "      <th>id_user</th>\n",
       "      <th>date</th>\n",
       "      <th>hours</th>\n",
       "      <th>id_item</th>\n",
       "      <th>price</th>\n",
       "      <th>qty</th>\n",
       "    </tr>\n",
       "  </thead>\n",
       "  <tbody>\n",
       "    <tr>\n",
       "      <th>0</th>\n",
       "      <td>13090</td>\n",
       "      <td>2010-12-02</td>\n",
       "      <td>[06:20, 08:04]</td>\n",
       "      <td>21421</td>\n",
       "      <td>1.25</td>\n",
       "      <td>[1, 19[</td>\n",
       "    </tr>\n",
       "    <tr>\n",
       "      <th>1</th>\n",
       "      <td>13090</td>\n",
       "      <td>2010-12-02</td>\n",
       "      <td>[06:20, 08:04]</td>\n",
       "      <td>21422</td>\n",
       "      <td>0.85</td>\n",
       "      <td>[1, 19[</td>\n",
       "    </tr>\n",
       "    <tr>\n",
       "      <th>2</th>\n",
       "      <td>13538</td>\n",
       "      <td>2011-03-10</td>\n",
       "      <td>[06:20, 08:04]</td>\n",
       "      <td>48185</td>\n",
       "      <td>6.75</td>\n",
       "      <td>[1, 19[</td>\n",
       "    </tr>\n",
       "    <tr>\n",
       "      <th>3</th>\n",
       "      <td>13538</td>\n",
       "      <td>2011-03-10</td>\n",
       "      <td>[06:20, 08:04]</td>\n",
       "      <td>48187</td>\n",
       "      <td>6.75</td>\n",
       "      <td>[1, 19[</td>\n",
       "    </tr>\n",
       "    <tr>\n",
       "      <th>4</th>\n",
       "      <td>13538</td>\n",
       "      <td>2011-03-10</td>\n",
       "      <td>[06:20, 08:04]</td>\n",
       "      <td>21524</td>\n",
       "      <td>6.75</td>\n",
       "      <td>[1, 19[</td>\n",
       "    </tr>\n",
       "  </tbody>\n",
       "</table>\n",
       "</div>"
      ],
      "text/plain": [
       "  id_user       date           hours id_item  price      qty\n",
       "0   13090 2010-12-02  [06:20, 08:04]   21421   1.25  [1, 19[\n",
       "1   13090 2010-12-02  [06:20, 08:04]   21422   0.85  [1, 19[\n",
       "2   13538 2011-03-10  [06:20, 08:04]   48185   6.75  [1, 19[\n",
       "3   13538 2011-03-10  [06:20, 08:04]   48187   6.75  [1, 19[\n",
       "4   13538 2011-03-10  [06:20, 08:04]   21524   6.75  [1, 19["
      ]
     },
     "execution_count": 126,
     "metadata": {},
     "output_type": "execute_result"
    }
   ],
   "source": [
    "df.head()"
   ]
  },
  {
   "cell_type": "code",
   "execution_count": 255,
   "metadata": {},
   "outputs": [],
   "source": [
    "def hash_indexes(df):\n",
    "    \n",
    "    df_copy=df.copy()\n",
    "\n",
    "    months = pd.DatetimeIndex(df_copy[\"date\"]).month.unique()\n",
    "    ids = df_copy[\"id_user\"].unique()\n",
    "    df_copy[\"date\"] = pd.DatetimeIndex(df_copy[\"date\"]).month\n",
    "    \n",
    "    salt_table \n",
    "    \n",
    "    for i in months:\n",
    "        for j in ids:\n",
    "\n",
    "    #salt_table = pd.Dataframe(columns=months)\n",
    "   \n",
    "    df_copy[\"id_user\"]=np.vectorize(hashme,otypes=[str])(df[\"id_user\"])\n",
    "    df[\"id_user\"]=df_copy[\"id_user\"]  \n",
    "         \n",
    "            "
   ]
  },
  {
   "cell_type": "code",
   "execution_count": 49,
   "metadata": {},
   "outputs": [
    {
     "data": {
      "text/plain": [
       "Int64Index([12, 3, 4, 5, 6, 8, 10, 11, 2, 7, 9, 1], dtype='int64', name='date')"
      ]
     },
     "execution_count": 49,
     "metadata": {},
     "output_type": "execute_result"
    }
   ],
   "source": [
    "months = pd.DatetimeIndex(df[\"date\"]).month.unique()\n",
    "months"
   ]
  },
  {
   "cell_type": "code",
   "execution_count": 1,
   "metadata": {},
   "outputs": [],
   "source": [
    "#df.apply(lambda x: hs.sha256(tuple(x)).hexdiges(), axis = 1)"
   ]
  },
  {
   "cell_type": "code",
   "execution_count": 216,
   "metadata": {},
   "outputs": [],
   "source": [
    "#has.sha256(salt.encode() + password.encode()).hexdigest()"
   ]
  },
  {
   "cell_type": "code",
   "execution_count": 214,
   "metadata": {},
   "outputs": [],
   "source": [
    "def hashme(passwd, salt):\n",
    "    return hs.sha256(salt.encode() + passwd.encode()).hexdigest()\n"
   ]
  },
  {
   "cell_type": "code",
   "execution_count": 138,
   "metadata": {},
   "outputs": [
    {
     "data": {
      "text/plain": [
       "'9bd30342fd4a4f9255f18fc9dc1b749f05fb3f604311fe9362214eb9a8ad66f2'"
      ]
     },
     "execution_count": 138,
     "metadata": {},
     "output_type": "execute_result"
    }
   ],
   "source": []
  },
  {
   "cell_type": "code",
   "execution_count": 256,
   "metadata": {},
   "outputs": [
    {
     "name": "stdout",
     "output_type": "stream",
     "text": [
      "CPU times: user 803 ms, sys: 193 ms, total: 996 ms\n",
      "Wall time: 1.04 s\n"
     ]
    }
   ],
   "source": [
    "%%time\n",
    "hash_indexes(df)"
   ]
  },
  {
   "cell_type": "code",
   "execution_count": 114,
   "metadata": {},
   "outputs": [
    {
     "data": {
      "text/plain": [
       "b'QQ=='"
      ]
     },
     "execution_count": 114,
     "metadata": {},
     "output_type": "execute_result"
    }
   ],
   "source": [
    "base64.b64encode(\"A\".encode())\n",
    "hs.sha256(df[\"id_user\"][0].encode()).hexdigest()"
   ]
  },
  {
   "cell_type": "code",
   "execution_count": 232,
   "metadata": {},
   "outputs": [
    {
     "name": "stderr",
     "output_type": "stream",
     "text": [
      "/Library/Frameworks/Python.framework/Versions/3.7/lib/python3.7/site-packages/ipykernel_launcher.py:2: SettingWithCopyWarning: \n",
      "A value is trying to be set on a copy of a slice from a DataFrame\n",
      "\n",
      "See the caveats in the documentation: http://pandas.pydata.org/pandas-docs/stable/indexing.html#indexing-view-versus-copy\n",
      "  \n"
     ]
    }
   ],
   "source": [
    "dfc=df.copy()\n",
    "dfc[\"price\"][0]=2"
   ]
  },
  {
   "cell_type": "code",
   "execution_count": null,
   "metadata": {},
   "outputs": [],
   "source": [
    "    for i in months:\n",
    "        for j in ids:\n",
    "            \n",
    "            partition = (df_copy[\"date\"] == i) & (df_copy[\"id_user\"]==j)\n",
    "            df_copy.loc[partition,[\"id_user\"]] =  np.vectorize(hashme,otypes=[str])(df[partition][\"id_user\"])\n",
    "            #print(df.loc[partition][\"id_user\"])\n",
    "            #df.loc[partition,[\"id_user\"]] =  df[partition][\"id_user\"].apply(hashme)"
   ]
  },
  {
   "cell_type": "code",
   "execution_count": 328,
   "metadata": {},
   "outputs": [
    {
     "data": {
      "text/html": [
       "<div>\n",
       "<style scoped>\n",
       "    .dataframe tbody tr th:only-of-type {\n",
       "        vertical-align: middle;\n",
       "    }\n",
       "\n",
       "    .dataframe tbody tr th {\n",
       "        vertical-align: top;\n",
       "    }\n",
       "\n",
       "    .dataframe thead th {\n",
       "        text-align: right;\n",
       "    }\n",
       "</style>\n",
       "<table border=\"1\" class=\"dataframe\">\n",
       "  <thead>\n",
       "    <tr style=\"text-align: right;\">\n",
       "      <th></th>\n",
       "      <th>1</th>\n",
       "      <th>2</th>\n",
       "      <th>3</th>\n",
       "      <th>4</th>\n",
       "      <th>5</th>\n",
       "      <th>6</th>\n",
       "      <th>7</th>\n",
       "      <th>8</th>\n",
       "      <th>9</th>\n",
       "      <th>10</th>\n",
       "      <th>11</th>\n",
       "      <th>12</th>\n",
       "    </tr>\n",
       "  </thead>\n",
       "  <tbody>\n",
       "    <tr>\n",
       "      <th>13090</th>\n",
       "      <td>b'\\xe7\\xf9P\\xd3\\xcc\\x1bzP\\x1d\\xdb\\xcf\\x8b\\xd9\\...</td>\n",
       "      <td>b'\\xd3!\\xad\\x96\\x17\\x81\\xd6?\\xd2\\xff\\x83?\\xde\\...</td>\n",
       "      <td>b'\\x1f\\xa7:\\xbd\\xf9\\x9e\\x1b\\x9c\\x01\\xee\\xdeRZ\\...</td>\n",
       "      <td>b\"w\\xc6\\x8f\\xb5\\x15h\\xae\\xf9|\\x82UI\\x0fl\\xca\\x...</td>\n",
       "      <td>b'=\\xa1\\xa0\\xf9\\xf5/\\xfb\\xe1\\xc2\\x16\\xf4;\\xf6e...</td>\n",
       "      <td>b\"N\\xa2\\x80?\\xbb`\\xd3\\xdc\\xcd:\\xb9\\x1cl\\xfc\\x1...</td>\n",
       "      <td>b\"\\xbdy\\x98\\xce?M\\xd6[\\x81\\x0e\\x1d\\xad\\x88\\xa4...</td>\n",
       "      <td>b'\\xef\\xa8\"\\x08\\xf3\\x06x\\x92\\xa04\\xf5\\xa8&amp;hq\\x...</td>\n",
       "      <td>b\"\\x1cs\\x98$\\x1cy\\xad\\xeeo\\t\\x03-\\xad\\xa6\\xadk...</td>\n",
       "      <td>b\"x\\xbe\\xa5\\xd0B\\xc4\\x9b^(7\\xd9\\x05\\x92\\xb3\\x8...</td>\n",
       "      <td>b'}ku\\xd9A\\xef \\xb4\\xc5\\x88\\xdbJ\\xf02)\\xdd\\xb0...</td>\n",
       "      <td>b'5e\\xb7\\x85\\xb8\\x00\\x109\\x83=\\xf4m\\xd0\\xb2\\xc...</td>\n",
       "    </tr>\n",
       "    <tr>\n",
       "      <th>13538</th>\n",
       "      <td>b'\\x0f\\x88\\xa7\\x0e\\xd1\\xb58\\x1c\\xd2D\\xc8p]3\\xf...</td>\n",
       "      <td>b'\\xa1_x\\xe4?h\\x14&amp;b\\xd3\\xc0\\xf0\\x8f\\x8c\\xe2w\\...</td>\n",
       "      <td>b'\\x02\\xb3\\x1c(C\\xafW\\x15bP\\x8aX\\xcdc\\xd3\\x9d\"...</td>\n",
       "      <td>b'\\xc8\\x9a\\x841\\xa0\\xa6LI\\x92F\\x8c\\xc3\\xafQ\\xa...</td>\n",
       "      <td>b'c\\xab\\x08X^\\xcf_\\xcd\\'?\\xb9.tG\\x0b\\xd9\\x1e~\\...</td>\n",
       "      <td>b'KI\\x1cI\\x02\\xb73R\\xcc\\x87T5VrMu\\xa4\\xea2\\xd5...</td>\n",
       "      <td>b'\\xedPN\\x93@\\xe7;tb=\\xfbO\\x1d34\\xbd\\x17\\x86\\x...</td>\n",
       "      <td>b'Yp\\xb6\\xcfe\\x03 }\\xadH\\x1e\\r%\\xad\\'BS\\xcb\\xe...</td>\n",
       "      <td>b\"\\xc2\\xfb.\\xff\\xe9MW\\r\\x92]%r\\x08r\\x92\\x8c\\xa...</td>\n",
       "      <td>b'N\\x1ef\\xb0M%\\xd5 \\x92\\xb0\\x19\\x87\\x9d;1\\xa2\\...</td>\n",
       "      <td>b'2\\xfa\\xfd\\xbb\\xf0\\\\\\xb9\\x12\\x0cW&gt;\\x19f\\xe5X\\...</td>\n",
       "      <td>b'\\x9d7\\xa0\\'\\x8f\\x17c&gt;\\xe3smS\\xf5\\x88\\x99\\xe1...</td>\n",
       "    </tr>\n",
       "    <tr>\n",
       "      <th>12435</th>\n",
       "      <td>b\"+\\xcb\\xa9m\\x01\\xdf\\xf5\\x87\\xb46\\x08\\xa8\\xd7\\...</td>\n",
       "      <td>b'\\x04|\\x1f\\xcb\\x93\\xf8\\xb3s\\r[1t-a\\xcfb\\x1a\\x...</td>\n",
       "      <td>b'\\xd4f\\xefpV\\x92\\x86\\x97\\xaa\\xbf\\xc3\\xa6C\\xec...</td>\n",
       "      <td>b'\\x8dg\\x82\\xcd\\x97\\xb2\\xffc\\xa9\\x8b\\xdfo\\xaa\\...</td>\n",
       "      <td>b\"\\xb3 \\x90=\\xb2eRj\\x8e#\\x96?\\xb1C3\\x17\\xbf\\x1...</td>\n",
       "      <td>b'\\xec\\xae\\xd6\\x18`\\xea\\xab\\xd0\\xb8\\x19\\x93a+\\...</td>\n",
       "      <td>b\"A\\xd9\\xf0&lt;\\x0c\\x18\\xd4N\\xd4J\\xfc\\xdc\\xb6[\\xe...</td>\n",
       "      <td>b'S\\x18\\x8a\\xd1\\xa8v\\x91\\xaf\\xe2`3\\x86\\x8aU\\r\\...</td>\n",
       "      <td>b\"\\xbeN\\xaf\\xb0\\xee\\xac\\xd8\\xa4\\xfc-[l\\x92\\x05...</td>\n",
       "      <td>b':\\x1cX\\xa5\\xd3y6\\x199U\\xa22\\x83\\xfby\\xba\\xbd...</td>\n",
       "      <td>b\"\\xe0\\xbc\\xfd2\\xe6\\xd1\\xa5[z\\x8f|Z\\xd0\\x0eD\\x...</td>\n",
       "      <td>b')\\xae\\xdc\\xbfp\\n\\xab\\x0fKb\\x92\\x99\\x17\"$\\x0c...</td>\n",
       "    </tr>\n",
       "    <tr>\n",
       "      <th>14619</th>\n",
       "      <td>b'c\\xf7&gt;\\xb0\\xa3\\xb8\\xf6`\\xaf\\xba;\\xa7\\x18\\x81...</td>\n",
       "      <td>b'=\\x075\\xfezP\\\\\\xb7\\xe2\\xe1\\xa9\\xa8\\x9d\\xc2\\x...</td>\n",
       "      <td>b'f\\xbd_\\x08\\xda\\xb6\\xddyT\\xc9F\\xa6y\\x11\\xc5\\x...</td>\n",
       "      <td>b\"y\\x03\\xd3\\xf8\\xd3\\xf7\\xcb\\xdc\\xe6c\\xfe(\\xc6\\...</td>\n",
       "      <td>b'\\rw^\\xd5\\xe8\\x81\\xe9\\xa8CJE=@\\xe2\\x83\\xc5Q\\x...</td>\n",
       "      <td>b'\\xd5h\\xd3)\\x9d\\xd2\\x89Q\\x10pl\\\\6\\x97\\xac\\xb0...</td>\n",
       "      <td>b\"\\xfc\\xfe3\\xb6\\xf0\\x996G\\xc0\\x95d\\xd1\\x10\\xbe...</td>\n",
       "      <td>b'\\x01\\xebs%7\\x82\\xc8\\xc5\\xa2\\x84\\x9aWd\\xbeL\\x...</td>\n",
       "      <td>b'\\x17\\xfb\\x0b\\xa6\\x87\\x7f\\x8c\\xe9M\\t\\xe8R\\xf6...</td>\n",
       "      <td>b'\\xf2\\x90 \\\\,\\x19\\xeb\\x0f.52}\\x82\\xc3m\\xe6\\x0...</td>\n",
       "      <td>b'\\x87\\xba\\xb0\\x0e!\\x84\\n3=\\xb7Gx\\xee\\x8d\\xde\\...</td>\n",
       "      <td>b'\\r\\x03r\\xd3\\xcd\\xa8\\xca+My\\xef\\x89\\xf7d0\\xb7...</td>\n",
       "    </tr>\n",
       "    <tr>\n",
       "      <th>16422</th>\n",
       "      <td>b'\\x92ZV\\xf0\\x0etp G@\\xe2\\x16\\x91h_LJ`\\xb0\\x15...</td>\n",
       "      <td>b\"\\xe2\\x80:\\x0f\\xc0\\xfd\\n\\x10\\xd5\\x8e\\xee=\\ne,...</td>\n",
       "      <td>b'F\\x10\\xbd%)\\xcd\\x90c\\x80\\x8f\\xf2\\xb4c7\\xc5p\\...</td>\n",
       "      <td>b'T\\xf5\\xafP\\r\\x1cI\\x0f.q\\x86\\x97\\x10\\xb0\\\\+\\x...</td>\n",
       "      <td>b'\\x9er\\x11w\\xf3a\\x11W\\xda\\xc5\\xe3\\x04\\xd0\\xc1...</td>\n",
       "      <td>b'n\\x07\\\\\\x8c\\xf0V^\\x01c\\x90\\xdc8\\xa7\\xee\\xf5\\...</td>\n",
       "      <td>b'_\\xbd\\xf2.W\\xbb&amp;\\xdf\"\\xd2\\x039\\xee\\x83R\\xecD...</td>\n",
       "      <td>b'\\xb7\\xbf\\x0c\\x1di\\tQ\\x94\\x8f\\x9c\\x89\\xbeh\\x0...</td>\n",
       "      <td>b'\\xd4W\\xba\\x82\\xfd\\x86\\x18\\xea\\x0e\\x00`y\"\\x8c...</td>\n",
       "      <td>b'#\\t\\x14\\xaa\\xa4\\xca\\x9e\\xa9K\\x8e\\xcb\\x96*m\\x...</td>\n",
       "      <td>b'\\xbd*\\x94\\xf2\\xa1\\xa9\\x10\\x97\\x80\\xd0\\xee&gt;\\x...</td>\n",
       "      <td>b'\\xda\\x17\\nen\\x01\\xc6\\xd4\\x84Lm^?\\x9c\\x06\\xd8...</td>\n",
       "    </tr>\n",
       "  </tbody>\n",
       "</table>\n",
       "</div>"
      ],
      "text/plain": [
       "                                                      1   \\\n",
       "13090  b'\\xe7\\xf9P\\xd3\\xcc\\x1bzP\\x1d\\xdb\\xcf\\x8b\\xd9\\...   \n",
       "13538  b'\\x0f\\x88\\xa7\\x0e\\xd1\\xb58\\x1c\\xd2D\\xc8p]3\\xf...   \n",
       "12435  b\"+\\xcb\\xa9m\\x01\\xdf\\xf5\\x87\\xb46\\x08\\xa8\\xd7\\...   \n",
       "14619  b'c\\xf7>\\xb0\\xa3\\xb8\\xf6`\\xaf\\xba;\\xa7\\x18\\x81...   \n",
       "16422  b'\\x92ZV\\xf0\\x0etp G@\\xe2\\x16\\x91h_LJ`\\xb0\\x15...   \n",
       "\n",
       "                                                      2   \\\n",
       "13090  b'\\xd3!\\xad\\x96\\x17\\x81\\xd6?\\xd2\\xff\\x83?\\xde\\...   \n",
       "13538  b'\\xa1_x\\xe4?h\\x14&b\\xd3\\xc0\\xf0\\x8f\\x8c\\xe2w\\...   \n",
       "12435  b'\\x04|\\x1f\\xcb\\x93\\xf8\\xb3s\\r[1t-a\\xcfb\\x1a\\x...   \n",
       "14619  b'=\\x075\\xfezP\\\\\\xb7\\xe2\\xe1\\xa9\\xa8\\x9d\\xc2\\x...   \n",
       "16422  b\"\\xe2\\x80:\\x0f\\xc0\\xfd\\n\\x10\\xd5\\x8e\\xee=\\ne,...   \n",
       "\n",
       "                                                      3   \\\n",
       "13090  b'\\x1f\\xa7:\\xbd\\xf9\\x9e\\x1b\\x9c\\x01\\xee\\xdeRZ\\...   \n",
       "13538  b'\\x02\\xb3\\x1c(C\\xafW\\x15bP\\x8aX\\xcdc\\xd3\\x9d\"...   \n",
       "12435  b'\\xd4f\\xefpV\\x92\\x86\\x97\\xaa\\xbf\\xc3\\xa6C\\xec...   \n",
       "14619  b'f\\xbd_\\x08\\xda\\xb6\\xddyT\\xc9F\\xa6y\\x11\\xc5\\x...   \n",
       "16422  b'F\\x10\\xbd%)\\xcd\\x90c\\x80\\x8f\\xf2\\xb4c7\\xc5p\\...   \n",
       "\n",
       "                                                      4   \\\n",
       "13090  b\"w\\xc6\\x8f\\xb5\\x15h\\xae\\xf9|\\x82UI\\x0fl\\xca\\x...   \n",
       "13538  b'\\xc8\\x9a\\x841\\xa0\\xa6LI\\x92F\\x8c\\xc3\\xafQ\\xa...   \n",
       "12435  b'\\x8dg\\x82\\xcd\\x97\\xb2\\xffc\\xa9\\x8b\\xdfo\\xaa\\...   \n",
       "14619  b\"y\\x03\\xd3\\xf8\\xd3\\xf7\\xcb\\xdc\\xe6c\\xfe(\\xc6\\...   \n",
       "16422  b'T\\xf5\\xafP\\r\\x1cI\\x0f.q\\x86\\x97\\x10\\xb0\\\\+\\x...   \n",
       "\n",
       "                                                      5   \\\n",
       "13090  b'=\\xa1\\xa0\\xf9\\xf5/\\xfb\\xe1\\xc2\\x16\\xf4;\\xf6e...   \n",
       "13538  b'c\\xab\\x08X^\\xcf_\\xcd\\'?\\xb9.tG\\x0b\\xd9\\x1e~\\...   \n",
       "12435  b\"\\xb3 \\x90=\\xb2eRj\\x8e#\\x96?\\xb1C3\\x17\\xbf\\x1...   \n",
       "14619  b'\\rw^\\xd5\\xe8\\x81\\xe9\\xa8CJE=@\\xe2\\x83\\xc5Q\\x...   \n",
       "16422  b'\\x9er\\x11w\\xf3a\\x11W\\xda\\xc5\\xe3\\x04\\xd0\\xc1...   \n",
       "\n",
       "                                                      6   \\\n",
       "13090  b\"N\\xa2\\x80?\\xbb`\\xd3\\xdc\\xcd:\\xb9\\x1cl\\xfc\\x1...   \n",
       "13538  b'KI\\x1cI\\x02\\xb73R\\xcc\\x87T5VrMu\\xa4\\xea2\\xd5...   \n",
       "12435  b'\\xec\\xae\\xd6\\x18`\\xea\\xab\\xd0\\xb8\\x19\\x93a+\\...   \n",
       "14619  b'\\xd5h\\xd3)\\x9d\\xd2\\x89Q\\x10pl\\\\6\\x97\\xac\\xb0...   \n",
       "16422  b'n\\x07\\\\\\x8c\\xf0V^\\x01c\\x90\\xdc8\\xa7\\xee\\xf5\\...   \n",
       "\n",
       "                                                      7   \\\n",
       "13090  b\"\\xbdy\\x98\\xce?M\\xd6[\\x81\\x0e\\x1d\\xad\\x88\\xa4...   \n",
       "13538  b'\\xedPN\\x93@\\xe7;tb=\\xfbO\\x1d34\\xbd\\x17\\x86\\x...   \n",
       "12435  b\"A\\xd9\\xf0<\\x0c\\x18\\xd4N\\xd4J\\xfc\\xdc\\xb6[\\xe...   \n",
       "14619  b\"\\xfc\\xfe3\\xb6\\xf0\\x996G\\xc0\\x95d\\xd1\\x10\\xbe...   \n",
       "16422  b'_\\xbd\\xf2.W\\xbb&\\xdf\"\\xd2\\x039\\xee\\x83R\\xecD...   \n",
       "\n",
       "                                                      8   \\\n",
       "13090  b'\\xef\\xa8\"\\x08\\xf3\\x06x\\x92\\xa04\\xf5\\xa8&hq\\x...   \n",
       "13538  b'Yp\\xb6\\xcfe\\x03 }\\xadH\\x1e\\r%\\xad\\'BS\\xcb\\xe...   \n",
       "12435  b'S\\x18\\x8a\\xd1\\xa8v\\x91\\xaf\\xe2`3\\x86\\x8aU\\r\\...   \n",
       "14619  b'\\x01\\xebs%7\\x82\\xc8\\xc5\\xa2\\x84\\x9aWd\\xbeL\\x...   \n",
       "16422  b'\\xb7\\xbf\\x0c\\x1di\\tQ\\x94\\x8f\\x9c\\x89\\xbeh\\x0...   \n",
       "\n",
       "                                                      9   \\\n",
       "13090  b\"\\x1cs\\x98$\\x1cy\\xad\\xeeo\\t\\x03-\\xad\\xa6\\xadk...   \n",
       "13538  b\"\\xc2\\xfb.\\xff\\xe9MW\\r\\x92]%r\\x08r\\x92\\x8c\\xa...   \n",
       "12435  b\"\\xbeN\\xaf\\xb0\\xee\\xac\\xd8\\xa4\\xfc-[l\\x92\\x05...   \n",
       "14619  b'\\x17\\xfb\\x0b\\xa6\\x87\\x7f\\x8c\\xe9M\\t\\xe8R\\xf6...   \n",
       "16422  b'\\xd4W\\xba\\x82\\xfd\\x86\\x18\\xea\\x0e\\x00`y\"\\x8c...   \n",
       "\n",
       "                                                      10  \\\n",
       "13090  b\"x\\xbe\\xa5\\xd0B\\xc4\\x9b^(7\\xd9\\x05\\x92\\xb3\\x8...   \n",
       "13538  b'N\\x1ef\\xb0M%\\xd5 \\x92\\xb0\\x19\\x87\\x9d;1\\xa2\\...   \n",
       "12435  b':\\x1cX\\xa5\\xd3y6\\x199U\\xa22\\x83\\xfby\\xba\\xbd...   \n",
       "14619  b'\\xf2\\x90 \\\\,\\x19\\xeb\\x0f.52}\\x82\\xc3m\\xe6\\x0...   \n",
       "16422  b'#\\t\\x14\\xaa\\xa4\\xca\\x9e\\xa9K\\x8e\\xcb\\x96*m\\x...   \n",
       "\n",
       "                                                      11  \\\n",
       "13090  b'}ku\\xd9A\\xef \\xb4\\xc5\\x88\\xdbJ\\xf02)\\xdd\\xb0...   \n",
       "13538  b'2\\xfa\\xfd\\xbb\\xf0\\\\\\xb9\\x12\\x0cW>\\x19f\\xe5X\\...   \n",
       "12435  b\"\\xe0\\xbc\\xfd2\\xe6\\xd1\\xa5[z\\x8f|Z\\xd0\\x0eD\\x...   \n",
       "14619  b'\\x87\\xba\\xb0\\x0e!\\x84\\n3=\\xb7Gx\\xee\\x8d\\xde\\...   \n",
       "16422  b'\\xbd*\\x94\\xf2\\xa1\\xa9\\x10\\x97\\x80\\xd0\\xee>\\x...   \n",
       "\n",
       "                                                      12  \n",
       "13090  b'5e\\xb7\\x85\\xb8\\x00\\x109\\x83=\\xf4m\\xd0\\xb2\\xc...  \n",
       "13538  b'\\x9d7\\xa0\\'\\x8f\\x17c>\\xe3smS\\xf5\\x88\\x99\\xe1...  \n",
       "12435  b')\\xae\\xdc\\xbfp\\n\\xab\\x0fKb\\x92\\x99\\x17\"$\\x0c...  \n",
       "14619  b'\\r\\x03r\\xd3\\xcd\\xa8\\xca+My\\xef\\x89\\xf7d0\\xb7...  \n",
       "16422  b'\\xda\\x17\\nen\\x01\\xc6\\xd4\\x84Lm^?\\x9c\\x06\\xd8...  "
      ]
     },
     "execution_count": 328,
     "metadata": {},
     "output_type": "execute_result"
    }
   ],
   "source": [
    "df_copy=df.copy()\n",
    "\n",
    "months = pd.DatetimeIndex(df_copy[\"date\"]).month.unique()\n",
    "ordered_months = set(reversed(months))\n",
    "ids = df_copy[\"id_user\"].unique()\n",
    "df_copy[\"date\"] = pd.DatetimeIndex(df_copy[\"date\"]).month\n",
    "    \n",
    "salt_table=pd.DataFrame(columns=ordered_months,index=ids)\n",
    "\n",
    "# Generer la table des sels\n",
    "\n",
    "for i in ids:\n",
    "    for j in ordered_months:\n",
    "        # Generates unique b64 values\n",
    "        salt_table[j][i]=os.urandom(256)\n",
    "\n"
   ]
  },
  {
   "cell_type": "code",
   "execution_count": 329,
   "metadata": {},
   "outputs": [],
   "source": [
    "alls=[]\n",
    "for col in salt_table.columns:\n",
    "    alls.append(salt_table[col])"
   ]
  },
  {
   "cell_type": "code",
   "execution_count": 330,
   "metadata": {},
   "outputs": [
    {
     "data": {
      "text/plain": [
       "48408"
      ]
     },
     "execution_count": 330,
     "metadata": {},
     "output_type": "execute_result"
    }
   ],
   "source": [
    "len(np.unique(alls))"
   ]
  },
  {
   "cell_type": "code",
   "execution_count": 326,
   "metadata": {},
   "outputs": [
    {
     "data": {
      "text/plain": [
       "4034"
      ]
     },
     "execution_count": 326,
     "metadata": {},
     "output_type": "execute_result"
    }
   ],
   "source": [
    "df[\"id_user\"].nunique()"
   ]
  },
  {
   "cell_type": "code",
   "execution_count": 327,
   "metadata": {},
   "outputs": [
    {
     "data": {
      "text/plain": [
       "48408"
      ]
     },
     "execution_count": 327,
     "metadata": {},
     "output_type": "execute_result"
    }
   ],
   "source": [
    "4034*12"
   ]
  },
  {
   "cell_type": "code",
   "execution_count": null,
   "metadata": {},
   "outputs": [],
   "source": []
  }
 ],
 "metadata": {
  "kernelspec": {
   "display_name": "Python 3",
   "language": "python",
   "name": "python3"
  },
  "language_info": {
   "codemirror_mode": {
    "name": "ipython",
    "version": 3
   },
   "file_extension": ".py",
   "mimetype": "text/x-python",
   "name": "python",
   "nbconvert_exporter": "python",
   "pygments_lexer": "ipython3",
   "version": "3.7.4"
  }
 },
 "nbformat": 4,
 "nbformat_minor": 2
}
